{
 "cells": [
  {
   "cell_type": "markdown",
   "metadata": {},
   "source": [
    "# Manejo de Errores"
   ]
  },
  {
   "cell_type": "markdown",
   "metadata": {},
   "source": [
    "## Escenario: Creación de un programa de cohetes\n",
    "Imagina que es un desarrollador que está creando un programa para un cohete. El programa debe leer un archivo de configuración para asegurarse de que se carga la configuración adecuada. La lectura del archivo puede producir un error si falta el archivo o tiene otros problemas. En este módulo, explorarás cómo crear el programa."
   ]
  },
  {
   "cell_type": "markdown",
   "metadata": {},
   "source": [
    "## Tracebacks\n",
    "Un traceback es el cuerpo del texto que puede apuntar al origen (y al final) de un error no controlado. Comprender los componentes de un traceback hará que seas más eficaz al corregir errores o depurar un programa que no funciona bien."
   ]
  },
  {
   "cell_type": "code",
   "execution_count": 2,
   "metadata": {},
   "outputs": [
    {
     "ename": "FileNotFoundError",
     "evalue": "[Errno 2] No such file or directory: '/path/to/mars.jpg'",
     "output_type": "error",
     "traceback": [
      "\u001b[1;31m---------------------------------------------------------------------------\u001b[0m",
      "\u001b[1;31mFileNotFoundError\u001b[0m                         Traceback (most recent call last)",
      "\u001b[1;32mc:\\Users\\kk902\\OneDrive - Universidad Autónoma del Estado de México\\Documents\\11 SEMESTRE\\TDoc\\Full-Stack\\Katas Launch-X\\Módulo 10\\Kata_10.ipynb Cell 4'\u001b[0m in \u001b[0;36m<module>\u001b[1;34m\u001b[0m\n\u001b[0;32m      <a href='vscode-notebook-cell:/c%3A/Users/kk902/OneDrive%20-%20Universidad%20Aut%C3%B3noma%20del%20Estado%20de%20M%C3%A9xico/Documents/11%20SEMESTRE/TDoc/Full-Stack/Katas%20Launch-X/M%C3%B3dulo%2010/Kata_10.ipynb#ch0000005?line=1'>2</a>\u001b[0m     \u001b[39mopen\u001b[39m(\u001b[39m\"\u001b[39m\u001b[39m/path/to/mars.jpg\u001b[39m\u001b[39m\"\u001b[39m)\n\u001b[0;32m      <a href='vscode-notebook-cell:/c%3A/Users/kk902/OneDrive%20-%20Universidad%20Aut%C3%B3noma%20del%20Estado%20de%20M%C3%A9xico/Documents/11%20SEMESTRE/TDoc/Full-Stack/Katas%20Launch-X/M%C3%B3dulo%2010/Kata_10.ipynb#ch0000005?line=3'>4</a>\u001b[0m \u001b[39mif\u001b[39;00m \u001b[39m__name__\u001b[39m \u001b[39m==\u001b[39m \u001b[39m'\u001b[39m\u001b[39m__main__\u001b[39m\u001b[39m'\u001b[39m:\n\u001b[1;32m----> <a href='vscode-notebook-cell:/c%3A/Users/kk902/OneDrive%20-%20Universidad%20Aut%C3%B3noma%20del%20Estado%20de%20M%C3%A9xico/Documents/11%20SEMESTRE/TDoc/Full-Stack/Katas%20Launch-X/M%C3%B3dulo%2010/Kata_10.ipynb#ch0000005?line=4'>5</a>\u001b[0m     main()\n",
      "\u001b[1;32mc:\\Users\\kk902\\OneDrive - Universidad Autónoma del Estado de México\\Documents\\11 SEMESTRE\\TDoc\\Full-Stack\\Katas Launch-X\\Módulo 10\\Kata_10.ipynb Cell 4'\u001b[0m in \u001b[0;36mmain\u001b[1;34m()\u001b[0m\n\u001b[0;32m      <a href='vscode-notebook-cell:/c%3A/Users/kk902/OneDrive%20-%20Universidad%20Aut%C3%B3noma%20del%20Estado%20de%20M%C3%A9xico/Documents/11%20SEMESTRE/TDoc/Full-Stack/Katas%20Launch-X/M%C3%B3dulo%2010/Kata_10.ipynb#ch0000005?line=0'>1</a>\u001b[0m \u001b[39mdef\u001b[39;00m \u001b[39mmain\u001b[39m():\n\u001b[1;32m----> <a href='vscode-notebook-cell:/c%3A/Users/kk902/OneDrive%20-%20Universidad%20Aut%C3%B3noma%20del%20Estado%20de%20M%C3%A9xico/Documents/11%20SEMESTRE/TDoc/Full-Stack/Katas%20Launch-X/M%C3%B3dulo%2010/Kata_10.ipynb#ch0000005?line=1'>2</a>\u001b[0m     \u001b[39mopen\u001b[39;49m(\u001b[39m\"\u001b[39;49m\u001b[39m/path/to/mars.jpg\u001b[39;49m\u001b[39m\"\u001b[39;49m)\n",
      "\u001b[1;31mFileNotFoundError\u001b[0m: [Errno 2] No such file or directory: '/path/to/mars.jpg'"
     ]
    }
   ],
   "source": [
    "def main():\n",
    "    open(\"/path/to/mars.jpg\")\n",
    "\n",
    "if __name__ == '__main__':\n",
    "    main()"
   ]
  }
 ],
 "metadata": {
  "interpreter": {
   "hash": "e813b266c15fd96c79d7feb219f17c8bd933628255ee24adc1f3e3eda158f26d"
  },
  "kernelspec": {
   "display_name": "Python 3.9.10 64-bit (windows store)",
   "language": "python",
   "name": "python3"
  },
  "language_info": {
   "codemirror_mode": {
    "name": "ipython",
    "version": 3
   },
   "file_extension": ".py",
   "mimetype": "text/x-python",
   "name": "python",
   "nbconvert_exporter": "python",
   "pygments_lexer": "ipython3",
   "version": "3.9.10"
  },
  "orig_nbformat": 4
 },
 "nbformat": 4,
 "nbformat_minor": 2
}
